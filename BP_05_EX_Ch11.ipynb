{
  "nbformat": 4,
  "nbformat_minor": 0,
  "metadata": {
    "colab": {
      "provenance": [],
      "authorship_tag": "ABX9TyPkjj882flzD22jnN/SetNL",
      "include_colab_link": true
    },
    "kernelspec": {
      "name": "python3",
      "display_name": "Python 3"
    },
    "language_info": {
      "name": "python"
    }
  },
  "cells": [
    {
      "cell_type": "markdown",
      "metadata": {
        "id": "view-in-github",
        "colab_type": "text"
      },
      "source": [
        "<a href=\"https://colab.research.google.com/github/sonhyeonji/-BP_05_Ch11/blob/main/BP_05_EX_Ch11.ipynb\" target=\"_parent\"><img src=\"https://colab.research.google.com/assets/colab-badge.svg\" alt=\"Open In Colab\"/></a>"
      ]
    },
    {
      "cell_type": "code",
      "source": [
        "filename = input(\"파일 이름을 입력하세요: \").strip() #파일명 입력한다\n",
        "infile = open(filename, \"r\") #텍스트 파일을 여는 곳 #읽기를 진행한다\n",
        "t = 0  #t를 0으로 초기화한다 \n",
        "for line in infile: #파일에서 문자를 카운트하는 부분이다\n",
        "  for ch in line:\n",
        "    t += 1\n",
        "print(\"파일 안에는 총 \",t , \"개의 글자가 있습니다.\")\n",
        "infile.close() # 파일을 닫는다."
      ],
      "metadata": {
        "id": "2TqybJrxE08k"
      },
      "execution_count": null,
      "outputs": []
    },
    {
      "cell_type": "code",
      "source": [
        "infilename=input(\"파일 이름을 입력하세요:\").strip() #파일명 입력한다\n",
        "infile = open(filename, \"r\") #텍스트 파일을 여는 곳 #읽기를 진행한다\n",
        "file_a=infile.read()\n",
        "removed_a=input(\"삭제하고 싶은 문자열을 입력하시오:\").strip()\n",
        "modified_a=file_a.replace(removed_a,\"\")\n",
        "\n",
        "infile.close()\n",
        "outfile=open(infilename,\"w\")\n",
        "\n",
        "print(modified_a,file=outfile,end=\"\")\n",
        "print(\"변경된 파일이 저장되었습니다.확인해보세요.\")\n",
        "outfile.close #출력파일을 닫는다."
      ],
      "metadata": {
        "id": "up1nx4GZYjQw"
      },
      "execution_count": null,
      "outputs": []
    },
    {
      "cell_type": "code",
      "source": [
        "infile = open(\"thsguswl.txt\", \"r\") #파일명 입력한다\n",
        "for line in infile:\n",
        "  ...\n",
        "def countLine(line, counter):\n",
        "  for ch in line:\n",
        "    if ch.isalpha():\n",
        "      if ch in counter:\n",
        "        counter[ch] = counter[ch] + 1\n",
        "      else:\n",
        "        counter[ch] = 1\n",
        "fname = input(\"입력 파일 이름: \").strip() #파일명 입력한다\n",
        "infile = open(fname, \"r\")\n",
        "my_dict = { }\n",
        "for line in infile:\n",
        " countLine(line, my_dict)\n",
        "print(my_dict)\n",
        "infile.close() # 파일을 닫는다."
      ],
      "metadata": {
        "id": "QFtRh2GvG71L"
      },
      "execution_count": null,
      "outputs": []
    },
    {
      "cell_type": "code",
      "source": [
        "import pickle\n",
        "outfile = open(\"test.dat\", \"wb\")\n",
        "pickle.dump(12, outfile)\n",
        "pickle.dump(3.14, outfile)\n",
        "pickle.dump([1, 2, 3, 4, 5], outfile)\n",
        "outfile.close()\n",
        "infile = open(\"test.dat\", \"rb\")\n",
        "print(pickle.load(infile)) #pickle.load(infile)를 출력한다다\n",
        "print(pickle.load(infile))\n",
        "print(pickle.load(infile))\n",
        "infile.close() # 파일을 닫는다."
      ],
      "metadata": {
        "id": "wcTlM9c7HJui"
      },
      "execution_count": null,
      "outputs": []
    },
    {
      "cell_type": "code",
      "source": [
        "inFileName = input(\"입력 파일 이름: \") #파일명 입력한다\n",
        "outFileName = input(\"출력 파일 이름: \") #출력파일명을 입력한다다\n",
        "\n",
        "infile = open(inFileName, \"r\") #텍스트 파일을 여는 곳 #읽기를 진행한다\n",
        "outfile = open(outFileName, \"w\") #텍스트 파일을 여는 곳 #출력을 진행한다다\n",
        "total = 0.0\n",
        "count = 0\n",
        "line = infile.readline()\n",
        "while line != \"\" :\n",
        "  value = float(line)\n",
        "  total = total + value\n",
        "  count = count + 1\n",
        "  line = infile.readline()\n",
        "\n",
        "outfile.write(\"합계=\"+ str(total)+\"\\n\")\n",
        "avg = total / count\n",
        "outfile.write(\"평균=\"+ str(avg)+\"\\n\")\n",
        "infile.close() # 파일을 닫는다.\n",
        "outfile.close() #출력파일을 닫는다."
      ],
      "metadata": {
        "id": "DEhMZ_emaF3M"
      },
      "execution_count": null,
      "outputs": []
    },
    {
      "cell_type": "code",
      "source": [
        "import pickle\n",
        "from tkinter import *\n",
        "phone_book = { }\n",
        "current = 0\n",
        "name = \"\"\n",
        "phone = \"\"\n",
        "window = Tk()\n",
        "frame1 = Frame(window)\n",
        "frame1.pack()\n",
        "Label(frame1, text = \"이름 \").grid(row = 1, column = 1, sticky = W)\n",
        "nameEntry = Entry(frame1, textvariable = name, width = 30)\n",
        "nameEntry.grid(row = 1, column = 2)\n",
        "frame2 = Frame(window)\n",
        "frame2.pack()\n",
        "Label(frame2, text = \"전화번호\").grid(row = 1, column = 1, sticky = W)\n",
        "phoneEntry = Entry(frame2, textvariable = phone, width = 30)\n",
        "phoneEntry.grid(row = 1, column = 2)\n",
        "frame3 = Frame(window)\n",
        "frame3.pack()\n",
        "def save(): #save()함수를 정의한다\n",
        "  outfile = open(\"phonebook.dat\", \"wb\")\n",
        "  pickle.dump(phone_book, outfile)\n",
        "  print(\"주소들이 파일에 저장되었습니다\")\n",
        "  outfile.close()\n",
        "def load(): #load()함수를 정의한다\n",
        "  infile = open(\"phonebook.dat\", \"rb\")\n",
        "  phone_book = pickle.load(infile)\n",
        "  infile.close()\n",
        "  print(\"파일에서 주소를 읽었습니다.\")\n",
        "  go_first()\n",
        "def add(): #add()함수를 정의한다\n",
        "  phone_book[nameEntry.get()] = phoneEntry.get()\n",
        "  print(phone_book)\n",
        "  save()\n",
        "def go_first(): #go_first()함수를 정의한다\n",
        "  global current\n",
        "  current = 0\n",
        "  s = list(phone_book)\n",
        "  print(phone_book)\n",
        "  nameEntry.delete(0, END)\n",
        "  nameEntry.insert(0, ks[current])\n",
        "  phoneEntry.delete(0, END)\n",
        "  phoneEntry.insert(0, phone_book[ks[current]])\n",
        "def go_next(): #go_next()함수를 정의한다\n",
        "  global current\n",
        "  current += 1\n",
        "  ks = list(phone_book)\n",
        "  nameEntry.delete(0, END)\n",
        "  nameEntry.insert(0, ks[current])\n",
        "  phoneEntry.delete(0, END)\n",
        "  phoneEntry.insert(0, phone_book[ks[current]])\n",
        "def go_previous(): #go_previous()함수를 정의한다\n",
        "  print(\"구현되지 않았음\")\n",
        "def go_last(): #go_last()함수를 정의한다\n",
        "  print(\"구현되지 않았음\") \n",
        "b1 = Button(frame3, text = \"추가\", command = add).grid(row = 1, column = 1)\n",
        "b2 = Button(frame3, text = \"처음\", command = go_first).grid(row = 1, column = 2)\n",
        "b3 = Button(frame3, text = \"다음\", command = go_next).grid(row = 1, column = 3)\n",
        "b4 = Button(frame3, text = \"이전\", command =go_previous).grid(row = 1, column = 4)\n",
        "b5 = Button(frame3, text = \"마지막\", command = go_last).grid(row = 1, column = 5)\n",
        "b6 = Button(frame3, text = \"파일 읽기\", command = load).grid(row = 1, column = 6)\n",
        "window.mainloop() # GUI화면 루프처리"
      ],
      "metadata": {
        "id": "OliAPf3at-6m"
      },
      "execution_count": null,
      "outputs": []
    }
  ]
}